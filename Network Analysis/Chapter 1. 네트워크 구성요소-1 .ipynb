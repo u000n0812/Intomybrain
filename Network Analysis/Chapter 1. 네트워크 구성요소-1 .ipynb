{
 "cells": [
  {
   "cell_type": "markdown",
   "metadata": {},
   "source": [
    "# Chapter 1 네트워크 구성요소"
   ]
  },
  {
   "cell_type": "markdown",
   "metadata": {},
   "source": [
    "### 네트워크의 정의\n",
    "상호 연결되거나 상호 관련된 체인, 그룹 또는 시스템\n",
    "### 네트워크 G에는 두 요소가 있다.\n",
    "1. N개의 노드[꼭지점]  \n",
    "N: 네트워크의 크기(size)\n",
    "2. L개의 링크[엣지, 노드 쌍들의 집합]: 링크(i,j) - 노드 i와 노드 j를 연결\n",
    "### 네트워크의 종류\n",
    "1. 방향성 네트워크: 방향성 링크(directed link), 가중치 링크(i,j,w) / 무향성 네트워크\n",
    "2. 둘 이상의 노드 유형이 있는 네트워크 [예] 이분 네트워크(bipartite network)\n",
    "3. 다중 네트워크(multiple network): 여러 유형의 링크가 있는 네트워크\n",
    "\n",
    "anaconda prompt에서 pip install --upgrade networkx 로 설치"
   ]
  },
  {
   "cell_type": "markdown",
   "metadata": {},
   "source": [
    "### 파이썬 NeworkX 모듈\n",
    "NetworkX를 사용하여 가중치가 있거나 가중치가 없는 엣지로 구성된 무방향 또는 방향 그래프를 구성하고 그릴 수 있다.  \n",
    "그래프를 분석하는 다양한 함수를 사용할 수 있다.\n",
    "\n",
    "### Official documentation for version used in this tutorial\n",
    "\n",
    "https://networkx.github.io/documentation/networkx-3.1/\n",
    "\n",
    "### Official tutorial for version used in this tutorial\n",
    "\n",
    "https://networkx.github.io/documentation/networkx-3.1/tutorial.html"
   ]
  },
  {
   "cell_type": "code",
   "execution_count": 40,
   "metadata": {},
   "outputs": [],
   "source": [
    "import networkx as nx\n",
    "import matplotlib.pyplot as plt\n",
    "\n",
    "%matplotlib inline      "
   ]
  },
  {
   "cell_type": "code",
   "execution_count": 41,
   "metadata": {},
   "outputs": [
    {
     "data": {
      "text/plain": [
       "'2.6.3'"
      ]
     },
     "execution_count": 41,
     "metadata": {},
     "output_type": "execute_result"
    }
   ],
   "source": [
    "nx.__version__"
   ]
  },
  {
   "cell_type": "markdown",
   "metadata": {},
   "source": [
    "### 무향성 그래프(undirected graphs)를 생성하고 그리기"
   ]
  },
  {
   "cell_type": "code",
   "execution_count": 108,
   "metadata": {},
   "outputs": [
    {
     "data": {
      "image/png": "[encoded data removed]",
      "text/plain": [
       "<Figure size 216x216 with 1 Axes>"
      ]
     },
     "metadata": {},
     "output_type": "display_data"
    }
   ],
   "source": [
    "G = nx.Graph() # 그래프 객체를 만들어 G라는 이름을 붙인다.\n",
    "\n",
    "G.add_node('a') # a라는 node를 생성한다.\n",
    "\n",
    "# 한 번에 몇 개의 노드를 추가할 수 있다.\n",
    "nodes_to_add = ['b', 'c', 'd']\n",
    "G.add_nodes_from(nodes_to_add)\n",
    "\n",
    "# 노드 a와 노드 b를 연결하는 엣지를 추가할 수 있다.\n",
    "# 무향성 그래프 -> 노드의 순서는 중요하지 않다.\n",
    "G.add_edge('a', 'b') # a와 b를 연결하는 edge를 만든다\n",
    "\n",
    "# 2-튜플의 형식으로 한 번에 여러 개의 엣지를 추가할 수 있다.\n",
    "edges_to_add = [('a', 'c'), ('b', 'c'), ('c', 'd')]\n",
    "G.add_edges_from(edges_to_add)\n",
    "\n",
    "# 그래프를 그린다.\n",
    "plt.figure(figsize=(3,3)) \n",
    "nx.draw(G, with_labels=True) # 그림을 그리고, 레이블을 달아라\n",
    "plt.show()"
   ]
  },
  {
   "cell_type": "code",
   "execution_count": 43,
   "metadata": {},
   "outputs": [
    {
     "name": "stdout",
     "output_type": "stream",
     "text": [
      "graph nodes:  ['a', 'b', 'c', 'd']\n",
      "graph edges:  [('a', 'b'), ('a', 'c'), ('b', 'c'), ('c', 'd')]\n"
     ]
    }
   ],
   "source": [
    "print('graph nodes: ', G.nodes())\n",
    "print('graph edges: ', G.edges())"
   ]
  },
  {
   "cell_type": "code",
   "execution_count": 44,
   "metadata": {},
   "outputs": [
    {
     "data": {
      "text/plain": [
       "4"
      ]
     },
     "execution_count": 44,
     "metadata": {},
     "output_type": "execute_result"
    }
   ],
   "source": [
    "G.number_of_nodes()"
   ]
  },
  {
   "cell_type": "code",
   "execution_count": 45,
   "metadata": {},
   "outputs": [
    {
     "data": {
      "text/plain": [
       "4"
      ]
     },
     "execution_count": 45,
     "metadata": {},
     "output_type": "execute_result"
    }
   ],
   "source": [
    "G.number_of_edges()"
   ]
  },
  {
   "cell_type": "code",
   "execution_count": 46,
   "metadata": {},
   "outputs": [
    {
     "name": "stdout",
     "output_type": "stream",
     "text": [
      "<The edges of this graph>\n",
      "a b\n",
      "a c\n",
      "b c\n",
      "c d\n"
     ]
    }
   ],
   "source": [
    "print('<The edges of this graph>') # for 문을 사용해 엣지를 따로 출력\n",
    "for u, v in G.edges:\n",
    "    print(u, v)"
   ]
  },
  {
   "cell_type": "code",
   "execution_count": 47,
   "metadata": {},
   "outputs": [
    {
     "name": "stdout",
     "output_type": "stream",
     "text": [
      "<The edges of this graph>\n",
      "('a', 'b')\n",
      "('a', 'c')\n",
      "('b', 'c')\n",
      "('c', 'd')\n"
     ]
    }
   ],
   "source": [
    "print('<The edges of this graph>')\n",
    "for edge in G.edges:\n",
    "    print(edge)"
   ]
  },
  {
   "cell_type": "code",
   "execution_count": 48,
   "metadata": {},
   "outputs": [
    {
     "name": "stdout",
     "output_type": "stream",
     "text": [
      "The neighbors of node a :\n",
      "b \t\n",
      "c \t\n",
      "\n",
      "The neighbors of node b :\n",
      "a \t\n",
      "c \t\n",
      "\n",
      "The neighbors of node c :\n",
      "a \t\n",
      "b \t\n",
      "d \t\n",
      "\n",
      "The neighbors of node d :\n",
      "c \t\n",
      "\n"
     ]
    }
   ],
   "source": [
    "for node in G.nodes:\n",
    "    print('The neighbors of node %s :' % node)\n",
    "    for neighbor in G.neighbors(node):\n",
    "        print(neighbor, '\\t')\n",
    "    print()"
   ]
  },
  {
   "cell_type": "code",
   "execution_count": 49,
   "metadata": {},
   "outputs": [
    {
     "name": "stdout",
     "output_type": "stream",
     "text": [
      "The neighbors of node a : ['b', 'c']\n",
      "The neighbors of node b : ['a', 'c']\n",
      "The neighbors of node c : ['a', 'b', 'd']\n",
      "The neighbors of node d : ['c']\n"
     ]
    }
   ],
   "source": [
    "for node in G.nodes:\n",
    "    print('The neighbors of node %s :' % node, list(G.neighbors(node)))"
   ]
  },
  {
   "cell_type": "code",
   "execution_count": 50,
   "metadata": {},
   "outputs": [
    {
     "data": {
      "image/png": "[encoded data removed]",
      "text/plain": [
       "<Figure size 288x288 with 1 Axes>"
      ]
     },
     "metadata": {},
     "output_type": "display_data"
    }
   ],
   "source": [
    "plt.figure(figsize=(4,4)) \n",
    "nx.draw(G, with_labels=True,\n",
    "        node_color='blue',  node_size=1600,\n",
    "        font_color='white', font_size=16,\n",
    "        )\n",
    "plt.show()"
   ]
  },
  {
   "cell_type": "markdown",
   "metadata": {},
   "source": [
    "# NetworkX 함수 vs. Graph 메소드\n",
    "\n",
    "    G.<method_name>(<arguments>)\n",
    "\n",
    "    nx.<function_name>(G, <arguments>)"
   ]
  },
  {
   "cell_type": "code",
   "execution_count": 51,
   "metadata": {},
   "outputs": [
    {
     "data": {
      "text/plain": [
       "False"
      ]
     },
     "execution_count": 51,
     "metadata": {},
     "output_type": "execute_result"
    }
   ],
   "source": [
    "nx.is_tree(G) # G라는 그래프가 tree인가? G는 그냥 graph니까 tree가 아니다."
   ]
  },
  {
   "cell_type": "code",
   "execution_count": 52,
   "metadata": {},
   "outputs": [
    {
     "data": {
      "text/plain": [
       "True"
      ]
     },
     "execution_count": 52,
     "metadata": {},
     "output_type": "execute_result"
    }
   ],
   "source": [
    "nx.is_connected(G) # G라는 그래프가 노드 간에 연결되어 있는 그래프인가?"
   ]
  },
  {
   "cell_type": "markdown",
   "metadata": {},
   "source": [
    "### 노드(node)와 엣지(edge)가 있는지 확인하려면\n",
    "\n",
    "그래프에 노드가 있는지 확인하려면, has_node() 메소드를 사용한다."
   ]
  },
  {
   "cell_type": "code",
   "execution_count": 53,
   "metadata": {},
   "outputs": [
    {
     "data": {
      "text/plain": [
       "True"
      ]
     },
     "execution_count": 53,
     "metadata": {},
     "output_type": "execute_result"
    }
   ],
   "source": [
    "G.has_node('a') # G라는 그래프에 a 노드가 있는가?"
   ]
  },
  {
   "cell_type": "code",
   "execution_count": 54,
   "metadata": {},
   "outputs": [
    {
     "data": {
      "text/plain": [
       "False"
      ]
     },
     "execution_count": 54,
     "metadata": {},
     "output_type": "execute_result"
    }
   ],
   "source": [
    "G.has_node('x')"
   ]
  },
  {
   "cell_type": "code",
   "execution_count": 55,
   "metadata": {},
   "outputs": [
    {
     "data": {
      "text/plain": [
       "True"
      ]
     },
     "execution_count": 55,
     "metadata": {},
     "output_type": "execute_result"
    }
   ],
   "source": [
    "'d' in G.nodes # G의 노드 중에 d가 있는가?"
   ]
  },
  {
   "cell_type": "code",
   "execution_count": 56,
   "metadata": {},
   "outputs": [
    {
     "data": {
      "text/plain": [
       "True"
      ]
     },
     "execution_count": 56,
     "metadata": {},
     "output_type": "execute_result"
    }
   ],
   "source": [
    "G.has_edge('a', 'b') # G에 a와 b를 연결하는 edge가 있는가?"
   ]
  },
  {
   "cell_type": "code",
   "execution_count": 57,
   "metadata": {},
   "outputs": [
    {
     "data": {
      "text/plain": [
       "False"
      ]
     },
     "execution_count": 57,
     "metadata": {},
     "output_type": "execute_result"
    }
   ],
   "source": [
    "G.has_edge('a', 'd') "
   ]
  },
  {
   "cell_type": "code",
   "execution_count": 58,
   "metadata": {},
   "outputs": [
    {
     "data": {
      "text/plain": [
       "True"
      ]
     },
     "execution_count": 58,
     "metadata": {},
     "output_type": "execute_result"
    }
   ],
   "source": [
    "('c', 'd') in G.edges"
   ]
  },
  {
   "cell_type": "markdown",
   "metadata": {},
   "source": [
    "### Node degree\n",
    "특정 노드에 몇 개의 엣지가 연결되어 있는지 확인한다."
   ]
  },
  {
   "cell_type": "code",
   "execution_count": 59,
   "metadata": {},
   "outputs": [
    {
     "data": {
      "text/plain": [
       "3"
      ]
     },
     "execution_count": 59,
     "metadata": {},
     "output_type": "execute_result"
    }
   ],
   "source": [
    "len(list(G.neighbors('c'))) # count : list에 특정 글자가 몇 개 있는지 셀 때 사용"
   ]
  },
  {
   "cell_type": "code",
   "execution_count": 60,
   "metadata": {
    "scrolled": true
   },
   "outputs": [
    {
     "name": "stdout",
     "output_type": "stream",
     "text": [
      "The degree of node a : 2\n",
      "The degree of node b : 2\n",
      "The degree of node c : 3\n",
      "The degree of node d : 1\n"
     ]
    }
   ],
   "source": [
    "for node in G.nodes:\n",
    "    print('The degree of node %s :' % node, len(list(G.neighbors(node))))"
   ]
  },
  {
   "cell_type": "code",
   "execution_count": 61,
   "metadata": {},
   "outputs": [
    {
     "data": {
      "text/plain": [
       "1"
      ]
     },
     "execution_count": 61,
     "metadata": {},
     "output_type": "execute_result"
    }
   ],
   "source": [
    "G.degree('d')"
   ]
  },
  {
   "cell_type": "code",
   "execution_count": 62,
   "metadata": {},
   "outputs": [
    {
     "name": "stdout",
     "output_type": "stream",
     "text": [
      "The degree of node a : 2\n",
      "The degree of node b : 2\n",
      "The degree of node c : 3\n",
      "The degree of node d : 1\n"
     ]
    }
   ],
   "source": [
    "for node in G.nodes:\n",
    "    print('The degree of node %s :' % node, G.degree(node))"
   ]
  },
  {
   "cell_type": "markdown",
   "metadata": {},
   "source": [
    "### 방향성 그래프(directed graphs)를 생성하고 그리기\n",
    "\n",
    "edge에 방향이 존재한다"
   ]
  },
  {
   "cell_type": "code",
   "execution_count": 63,
   "metadata": {},
   "outputs": [],
   "source": [
    "D = nx.DiGraph()\n",
    "D.add_edge(1, 2)\n",
    "D.add_edge(2, 1) # 방향이 있으니 (1,2)와 (2,1)은 다르다\n",
    "D.add_edges_from([(2, 3), (3, 4), (4, 2)])"
   ]
  },
  {
   "cell_type": "code",
   "execution_count": 64,
   "metadata": {},
   "outputs": [
    {
     "data": {
      "image/png": "[encoded data removed]",
      "text/plain": [
       "<Figure size 144x144 with 1 Axes>"
      ]
     },
     "metadata": {},
     "output_type": "display_data"
    }
   ],
   "source": [
    "plt.figure(figsize=(2,2)) \n",
    "nx.draw(D, with_labels=True)\n",
    "plt.show()"
   ]
  },
  {
   "cell_type": "code",
   "execution_count": 65,
   "metadata": {},
   "outputs": [
    {
     "data": {
      "text/plain": [
       "4"
      ]
     },
     "execution_count": 65,
     "metadata": {},
     "output_type": "execute_result"
    }
   ],
   "source": [
    "D.number_of_nodes()"
   ]
  },
  {
   "cell_type": "code",
   "execution_count": 66,
   "metadata": {},
   "outputs": [
    {
     "data": {
      "text/plain": [
       "5"
      ]
     },
     "execution_count": 66,
     "metadata": {},
     "output_type": "execute_result"
    }
   ],
   "source": [
    "D.number_of_edges()"
   ]
  },
  {
   "cell_type": "code",
   "execution_count": 67,
   "metadata": {},
   "outputs": [
    {
     "name": "stdout",
     "output_type": "stream",
     "text": [
      "The neighbors of node 1 : [2]\n",
      "The neighbors of node 2 : [1, 3]\n",
      "The neighbors of node 3 : [4]\n",
      "The neighbors of node 4 : [2]\n"
     ]
    }
   ],
   "source": [
    "for node in D.nodes:\n",
    "    print('The neighbors of node %s :' % node, list(D.neighbors(node)))"
   ]
  },
  {
   "cell_type": "code",
   "execution_count": 68,
   "metadata": {},
   "outputs": [
    {
     "data": {
      "image/png": "[encoded data removed]",
      "text/plain": [
       "<Figure size 144x144 with 1 Axes>"
      ]
     },
     "metadata": {},
     "output_type": "display_data"
    }
   ],
   "source": [
    "plt.figure(figsize=(2,2)) \n",
    "nx.draw(D, with_labels=True)\n",
    "plt.show()"
   ]
  },
  {
   "cell_type": "code",
   "execution_count": 69,
   "metadata": {},
   "outputs": [
    {
     "name": "stdout",
     "output_type": "stream",
     "text": [
      "The predecessors of node 1 : [2]\n",
      "The predecessors of node 2 : [1, 4]\n",
      "The predecessors of node 3 : [2]\n",
      "The predecessors of node 4 : [3]\n"
     ]
    }
   ],
   "source": [
    "for node in D.nodes:\n",
    "    print('The predecessors of node %s :' % node, list(D.predecessors(node)))"
   ]
  },
  {
   "cell_type": "code",
   "execution_count": 70,
   "metadata": {},
   "outputs": [
    {
     "name": "stdout",
     "output_type": "stream",
     "text": [
      "The successors of node 1 : [2]\n",
      "The successors of node 2 : [1, 3]\n",
      "The successors of node 3 : [4]\n",
      "The successors of node 4 : [2]\n"
     ]
    }
   ],
   "source": [
    "for node in D.nodes:\n",
    "    print('The successors of node %s :' % node, list(D.successors(node)))"
   ]
  },
  {
   "cell_type": "markdown",
   "metadata": {},
   "source": [
    "### 다양한 유형의 네트워크를 생성할 수 있다."
   ]
  },
  {
   "cell_type": "markdown",
   "metadata": {},
   "source": [
    "#### 완전 네트워크(complete network)\n",
    "가능한 모든 노드 쌍이 링크로 연결된 최대 링크 수를 갖는 네트워크\n",
    "#### 완전 이분 네트워크(complete bipartite network)"
   ]
  },
  {
   "cell_type": "markdown",
   "metadata": {},
   "source": [
    "그래프는 첫 번째에서 노드 0부터 노드 3(=4-1)까지, 두 번째에서 노드 4에서 노드 8(4+5-1)까지 두 개의 파티션으로 구성된다.  \n",
    "첫 번째 파티션의 각 노드는 두 번째 파티션의 각 노드에 연결된다."
   ]
  },
  {
   "cell_type": "code",
   "execution_count": 71,
   "metadata": {},
   "outputs": [],
   "source": [
    "B = nx.complete_bipartite_graph(4, 5) # 파티션 2개로 구성된 network"
   ]
  },
  {
   "cell_type": "code",
   "execution_count": 72,
   "metadata": {},
   "outputs": [
    {
     "data": {
      "image/png": "[encoded data removed]",
      "text/plain": [
       "<Figure size 144x144 with 1 Axes>"
      ]
     },
     "metadata": {},
     "output_type": "display_data"
    }
   ],
   "source": [
    "plt.figure(figsize=(2,2)) \n",
    "nx.draw(B, with_labels=True)\n",
    "plt.show()"
   ]
  },
  {
   "cell_type": "markdown",
   "metadata": {},
   "source": [
    "#### 사이클(cycle)\n",
    "원천 노드(source node)와 목표 노드(target node) 간의 특별한 경로"
   ]
  },
  {
   "cell_type": "code",
   "execution_count": 73,
   "metadata": {},
   "outputs": [],
   "source": [
    "C = nx.cycle_graph(4) # 노드 4개를 갖는 cycle"
   ]
  },
  {
   "cell_type": "code",
   "execution_count": 74,
   "metadata": {},
   "outputs": [
    {
     "data": {
      "image/png": "[encoded data removed]",
      "text/plain": [
       "<Figure size 144x144 with 1 Axes>"
      ]
     },
     "metadata": {},
     "output_type": "display_data"
    }
   ],
   "source": [
    "plt.figure(figsize=(2,2)) \n",
    "nx.draw(C, with_labels=True)\n",
    "plt.show()"
   ]
  },
  {
   "cell_type": "markdown",
   "metadata": {},
   "source": [
    "#### 경로(path)"
   ]
  },
  {
   "cell_type": "code",
   "execution_count": 75,
   "metadata": {},
   "outputs": [],
   "source": [
    "P = nx.path_graph(5)"
   ]
  },
  {
   "cell_type": "code",
   "execution_count": 76,
   "metadata": {},
   "outputs": [
    {
     "data": {
      "image/png": "[encoded data removed]",
      "text/plain": [
       "<Figure size 144x144 with 1 Axes>"
      ]
     },
     "metadata": {},
     "output_type": "display_data"
    }
   ],
   "source": [
    "plt.figure(figsize=(2,2)) \n",
    "nx.draw(P, with_labels=True)\n",
    "plt.show()"
   ]
  },
  {
   "cell_type": "markdown",
   "metadata": {},
   "source": [
    "#### 별 모양 네트워크(star network)"
   ]
  },
  {
   "cell_type": "code",
   "execution_count": 77,
   "metadata": {},
   "outputs": [],
   "source": [
    "S = nx.star_graph(6)"
   ]
  },
  {
   "cell_type": "code",
   "execution_count": 78,
   "metadata": {},
   "outputs": [
    {
     "data": {
      "image/png": "[encoded data removed]",
      "text/plain": [
       "<Figure size 144x144 with 1 Axes>"
      ]
     },
     "metadata": {},
     "output_type": "display_data"
    }
   ],
   "source": [
    "plt.figure(figsize=(2,2)) \n",
    "nx.draw(S, with_labels=True)\n",
    "plt.show()"
   ]
  }
 ],
 "metadata": {
  "kernelspec": {
   "display_name": "Python 3 (ipykernel)",
   "language": "python",
   "name": "python3"
  },
  "language_info": {
   "codemirror_mode": {
    "name": "ipython",
    "version": 3
   },
   "file_extension": ".py",
   "mimetype": "text/x-python",
   "name": "python",
   "nbconvert_exporter": "python",
   "pygments_lexer": "ipython3",
   "version": "3.9.7"
  }
 },
 "nbformat": 4,
 "nbformat_minor": 1
}
