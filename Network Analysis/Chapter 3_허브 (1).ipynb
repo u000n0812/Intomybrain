{
 "cells": [
  {
   "cell_type": "markdown",
   "metadata": {},
   "source": [
    "# Chapter 3. 허브\n",
    "\n",
    "1. 중심성 측도 [중심도]\n",
    "2. 중심도 분포  \n",
    "3. robustness test\n",
    "\n",
    "\n",
    "## 1. 허브 찾기\n",
    "\n",
    "사람들은 종종 네트워크에서 가장 중요한 노드를 찾으려고 노력한다. 즉, 중심성의 가장 기본적인 측도는 **차수(degree)** 즉, 노드에 연결된 링크[엣지]의 수다.\n",
    "\n",
    "Enron 임원 이메일 그래프를 살펴보자."
   ]
  },
  {
   "cell_type": "code",
   "execution_count": 1,
   "metadata": {},
   "outputs": [],
   "source": [
    "import networkx as nx\n",
    "import matplotlib.pyplot as plt\n",
    "\n",
    "%matplotlib inline"
   ]
  },
  {
   "cell_type": "code",
   "execution_count": 2,
   "metadata": {},
   "outputs": [
    {
     "ename": "FileNotFoundError",
     "evalue": "[Errno 2] No such file or directory: '../datasets/ia-enron-only/ia-enron-only.edges'",
     "output_type": "error",
     "traceback": [
      "\u001b[1;31m---------------------------------------------------------------------------\u001b[0m",
      "\u001b[1;31mFileNotFoundError\u001b[0m                         Traceback (most recent call last)",
      "\u001b[1;32m~\\AppData\\Local\\Temp/ipykernel_26872/2778890618.py\u001b[0m in \u001b[0;36m<module>\u001b[1;34m\u001b[0m\n\u001b[1;32m----> 1\u001b[1;33m \u001b[0mG\u001b[0m \u001b[1;33m=\u001b[0m \u001b[0mnx\u001b[0m\u001b[1;33m.\u001b[0m\u001b[0mread_edgelist\u001b[0m\u001b[1;33m(\u001b[0m\u001b[1;34m'../datasets/ia-enron-only/ia-enron-only.edges'\u001b[0m\u001b[1;33m,\u001b[0m \u001b[0mnodetype\u001b[0m\u001b[1;33m=\u001b[0m\u001b[0mint\u001b[0m\u001b[1;33m)\u001b[0m\u001b[1;33m\u001b[0m\u001b[1;33m\u001b[0m\u001b[0m\n\u001b[0m\u001b[0;32m      2\u001b[0m \u001b[1;31m#G = nx.read_edgelist('ia-enron-only.edges', nodetype=int)\u001b[0m\u001b[1;33m\u001b[0m\u001b[1;33m\u001b[0m\u001b[0m\n\u001b[0;32m      3\u001b[0m \u001b[0mprint\u001b[0m\u001b[1;33m(\u001b[0m\u001b[0mG\u001b[0m\u001b[1;33m)\u001b[0m\u001b[1;33m\u001b[0m\u001b[1;33m\u001b[0m\u001b[0m\n",
      "\u001b[1;32m~\\anaconda3\\lib\\site-packages\\networkx\\utils\\decorators.py\u001b[0m in \u001b[0;36mfunc\u001b[1;34m(_argmap__wrapper, *args, **kwargs)\u001b[0m\n\u001b[0;32m    764\u001b[0m \u001b[1;33m\u001b[0m\u001b[0m\n\u001b[0;32m    765\u001b[0m         \u001b[1;32mdef\u001b[0m \u001b[0mfunc\u001b[0m\u001b[1;33m(\u001b[0m\u001b[1;33m*\u001b[0m\u001b[0margs\u001b[0m\u001b[1;33m,\u001b[0m \u001b[0m__wrapper\u001b[0m\u001b[1;33m=\u001b[0m\u001b[1;32mNone\u001b[0m\u001b[1;33m,\u001b[0m \u001b[1;33m**\u001b[0m\u001b[0mkwargs\u001b[0m\u001b[1;33m)\u001b[0m\u001b[1;33m:\u001b[0m\u001b[1;33m\u001b[0m\u001b[1;33m\u001b[0m\u001b[0m\n\u001b[1;32m--> 766\u001b[1;33m             \u001b[1;32mreturn\u001b[0m \u001b[0margmap\u001b[0m\u001b[1;33m.\u001b[0m\u001b[0m_lazy_compile\u001b[0m\u001b[1;33m(\u001b[0m\u001b[0m__wrapper\u001b[0m\u001b[1;33m)\u001b[0m\u001b[1;33m(\u001b[0m\u001b[1;33m*\u001b[0m\u001b[0margs\u001b[0m\u001b[1;33m,\u001b[0m \u001b[1;33m**\u001b[0m\u001b[0mkwargs\u001b[0m\u001b[1;33m)\u001b[0m\u001b[1;33m\u001b[0m\u001b[1;33m\u001b[0m\u001b[0m\n\u001b[0m\u001b[0;32m    767\u001b[0m \u001b[1;33m\u001b[0m\u001b[0m\n\u001b[0;32m    768\u001b[0m         \u001b[1;31m# standard function-wrapping stuff\u001b[0m\u001b[1;33m\u001b[0m\u001b[1;33m\u001b[0m\u001b[0m\n",
      "\u001b[1;32m~\\anaconda3\\lib\\site-packages\\networkx\\utils\\decorators.py\u001b[0m in \u001b[0;36margmap_read_edgelist_1\u001b[1;34m(path, comments, delimiter, create_using, nodetype, data, edgetype, encoding)\u001b[0m\n\u001b[0;32m      1\u001b[0m \u001b[1;32mimport\u001b[0m \u001b[0mbz2\u001b[0m\u001b[1;33m\u001b[0m\u001b[1;33m\u001b[0m\u001b[0m\n\u001b[0;32m      2\u001b[0m \u001b[1;32mimport\u001b[0m \u001b[0mcollections\u001b[0m\u001b[1;33m\u001b[0m\u001b[1;33m\u001b[0m\u001b[0m\n\u001b[1;32m----> 3\u001b[1;33m \u001b[1;32mimport\u001b[0m \u001b[0mgzip\u001b[0m\u001b[1;33m\u001b[0m\u001b[1;33m\u001b[0m\u001b[0m\n\u001b[0m\u001b[0;32m      4\u001b[0m \u001b[1;32mimport\u001b[0m \u001b[0minspect\u001b[0m\u001b[1;33m\u001b[0m\u001b[1;33m\u001b[0m\u001b[0m\n\u001b[0;32m      5\u001b[0m \u001b[1;32mimport\u001b[0m \u001b[0mitertools\u001b[0m\u001b[1;33m\u001b[0m\u001b[1;33m\u001b[0m\u001b[0m\n",
      "\u001b[1;32m~\\anaconda3\\lib\\site-packages\\networkx\\utils\\decorators.py\u001b[0m in \u001b[0;36m_open_file\u001b[1;34m(path)\u001b[0m\n\u001b[0;32m    187\u001b[0m             \u001b[1;32mreturn\u001b[0m \u001b[0mpath\u001b[0m\u001b[1;33m,\u001b[0m \u001b[1;32mlambda\u001b[0m\u001b[1;33m:\u001b[0m \u001b[1;32mNone\u001b[0m\u001b[1;33m\u001b[0m\u001b[1;33m\u001b[0m\u001b[0m\n\u001b[0;32m    188\u001b[0m \u001b[1;33m\u001b[0m\u001b[0m\n\u001b[1;32m--> 189\u001b[1;33m         \u001b[0mfobj\u001b[0m \u001b[1;33m=\u001b[0m \u001b[0m_dispatch_dict\u001b[0m\u001b[1;33m[\u001b[0m\u001b[0mext\u001b[0m\u001b[1;33m]\u001b[0m\u001b[1;33m(\u001b[0m\u001b[0mpath\u001b[0m\u001b[1;33m,\u001b[0m \u001b[0mmode\u001b[0m\u001b[1;33m=\u001b[0m\u001b[0mmode\u001b[0m\u001b[1;33m)\u001b[0m\u001b[1;33m\u001b[0m\u001b[1;33m\u001b[0m\u001b[0m\n\u001b[0m\u001b[0;32m    190\u001b[0m         \u001b[1;32mreturn\u001b[0m \u001b[0mfobj\u001b[0m\u001b[1;33m,\u001b[0m \u001b[1;32mlambda\u001b[0m\u001b[1;33m:\u001b[0m \u001b[0mfobj\u001b[0m\u001b[1;33m.\u001b[0m\u001b[0mclose\u001b[0m\u001b[1;33m(\u001b[0m\u001b[1;33m)\u001b[0m\u001b[1;33m\u001b[0m\u001b[1;33m\u001b[0m\u001b[0m\n\u001b[0;32m    191\u001b[0m \u001b[1;33m\u001b[0m\u001b[0m\n",
      "\u001b[1;31mFileNotFoundError\u001b[0m: [Errno 2] No such file or directory: '../datasets/ia-enron-only/ia-enron-only.edges'"
     ]
    }
   ],
   "source": [
    "G = nx.read_edgelist('../datasets/ia-enron-only/ia-enron-only.edges', nodetype=int)\n",
    "#G = nx.read_edgelist('ia-enron-only.edges', nodetype=int)\n",
    "print(G)"
   ]
  },
  {
   "cell_type": "code",
   "execution_count": null,
   "metadata": {},
   "outputs": [],
   "source": [
    "plt.figure(figsize=(10,10)) \n",
    "nx.draw(G, with_labels=True)\n",
    "plt.show()"
   ]
  },
  {
   "cell_type": "markdown",
   "metadata": {},
   "source": [
    "### 기본적으로 nx.read_edgelist는 노드 이름이 문자열이라고 가정한다.  \n",
    "'엣지 목록(Edge lists)'은 그래프를 저장하기 위한 단순하고 일반 텍스트 형식이다.  \n",
    "이 간단한 파일 형식에는 데이터 유형에 대한 정보가 포함되어 있지 않으므로 모든 노드 이름은 기본적으로 문자열로 간주된다.  \n",
    "이 예에서와 같이 노드 이름이 정수로 제공되는 경우 노드 이름과의 혼동을 피하기 위해 'nodetype = int' 키워드 인수를 지정해야 한다.\n",
    "\n",
    "\n",
    "### max 함수\n",
    "가장 높은 차수를 가진 노드를 찾기 위해 Python의 내장 max 함수를 사용할 것이다."
   ]
  },
  {
   "cell_type": "code",
   "execution_count": null,
   "metadata": {},
   "outputs": [],
   "source": [
    "max([1,2,3,4,5])"
   ]
  },
  {
   "cell_type": "markdown",
   "metadata": {},
   "source": [
    "그러나 **가장 큰** 항목이 항상 분명한 것은 아닙니다."
   ]
  },
  {
   "cell_type": "code",
   "execution_count": null,
   "metadata": {},
   "outputs": [],
   "source": [
    "max(['apple', 'grape', 'carrot'])"
   ]
  },
  {
   "cell_type": "markdown",
   "metadata": {},
   "source": [
    "다른 옵션보다 **grape**가 더 큰 이유는 무엇인가?  \n",
    "문자열의 기본 정렬은 사전순(기본적으로 알파벳순)이기 때문이다.  \n",
    "이 기본 순서를 원하지 않으면, Python에 항목을 비교하는 방법을 알려주는 key 함수를 지정할 수 있다."
   ]
  },
  {
   "cell_type": "code",
   "execution_count": null,
   "metadata": {},
   "outputs": [],
   "source": [
    "max(['apple', 'grape', 'carrot'], key=len)"
   ]
  },
  {
   "cell_type": "markdown",
   "metadata": {},
   "source": [
    "이제 'carrot'이 가장 큰 요소다. 항목을 길이로 비교하고 있기 때문이다.\n",
    "\n",
    "### 1. 차수 기반 중심도: 최대 차수를 가진 노드 찾기\n",
    "\n",
    "어떤 기준에 따라 '최대 노드'를 얻기 위해 max 함수를 적용할 수 있다.  \n",
    "우리의 경우 노드를 그 **차수** 별로 비교하려고 한다."
   ]
  },
  {
   "cell_type": "code",
   "execution_count": null,
   "metadata": {},
   "outputs": [],
   "source": [
    "highest_degree_node = max(G.nodes, key=G.degree)\n",
    "highest_degree_node"
   ]
  },
  {
   "cell_type": "code",
   "execution_count": null,
   "metadata": {},
   "outputs": [],
   "source": [
    "G.degree(highest_degree_node)"
   ]
  },
  {
   "cell_type": "markdown",
   "metadata": {},
   "source": [
    "key 함수인 `G.degree`에 전달될 때 가장 높은 값을 제공하는 `G.nodes`의 항목을 원한다고 `max` 함수에 알리고 있다.  \n",
    "이 구조는 `G.degree`가 함수이기 때문에 작동한다."
   ]
  },
  {
   "cell_type": "markdown",
   "metadata": {},
   "source": [
    "### 2. 근접 중심도(Closeness Centrality)\n",
    "* 참고 사이트: https://networkx.org/documentation/stable/reference/algorithms/generated/networkx.algorithms.centrality.closeness_centrality.html  \n",
    "\n",
    "노드의 중심도를 측정하는 또 다른 방법은 그 노드가 다른 노드와 얼마나 '가까운지'를 결정하는 것이다.  \n",
    "이것은 한 노드에서 다른 모든 노드까지의 거리를 더해서 정한다.\n",
    "거리가 평균적으로 짧으면 그 합한 양이 작을 것이고, 노드의 중심도가 높다고 할 수 있다.  \n",
    "\n",
    "#### 근접 중심도는 한 노드에서 다른 모든 노드까지의 거리 합의 역수다."
   ]
  },
  {
   "cell_type": "code",
   "execution_count": null,
   "metadata": {},
   "outputs": [],
   "source": [
    "nx.closeness_centrality(G)   # 노드의 근접 중심도"
   ]
  },
  {
   "cell_type": "markdown",
   "metadata": {},
   "source": [
    "### 3. 사이 중심도(betweenness centrality)\n",
    "* 참고 사이트: https://networkx.org/documentation/stable/reference/algorithms/generated/networkx.algorithms.centrality.betweenness_centrality.html\n",
    "\n",
    "네트워크에서 발생하는 많은 현상은 **확산과정**을 바탕으로 한다.  \n",
    "이 확산과정을 기반으로 하여 **사이 중심도**가 제안되었다.\n",
    "**확산의 종류**에 따라 **사이 중심도**는 다르게 정의된다.  \n",
    "가장 널리 사용되는 **사이 중심도**는 **최단 경로**를 따라 한 노드에서 다른 노드로 신호가 전달되는 간단한 과정을 고려한다."
   ]
  },
  {
   "cell_type": "markdown",
   "metadata": {},
   "source": [
    "betweenness_centrality 함수는 모든 노드의 중심성 값을 한 번에 생성하고 **딕셔너리**를 반환한다.  \n",
    "이 경우 추가 단계가 필요하다."
   ]
  },
  {
   "cell_type": "code",
   "execution_count": null,
   "metadata": {},
   "outputs": [],
   "source": [
    "betweenness = nx.betweenness_centrality(G)\n",
    "highest_betweenness_node = max(G.nodes, key=betweenness.get)\n",
    "highest_betweenness_node"
   ]
  },
  {
   "cell_type": "code",
   "execution_count": null,
   "metadata": {},
   "outputs": [],
   "source": [
    "betweenness[highest_betweenness_node]"
   ]
  },
  {
   "cell_type": "markdown",
   "metadata": {},
   "source": [
    "## 2. 중심도 분포(Centrality distributions)\n",
    "\n",
    "우리는 네트워크에서 가장 중심적인 노드를 찾았지만, 종종 모든 노드의 중심성에 대한 정보를 요약하려고 한다.  \n",
    "예를 들어 **최대 차수** 외에도 네트워크에서 **평균과 중간 차수**를 원할 때가 많다.\n",
    "\n",
    "이 정보를 요약하는 첫 번째 단계는 그래프에서 모든 중심성 값의 시퀀스를 얻는 것이다.  \n",
    "우리는 더 이상 노드 이름에 신경 쓰지 않고 일련의 숫자만 원한다.  \n",
    "**차수**의 예부터 시작해 보자."
   ]
  },
  {
   "cell_type": "code",
   "execution_count": null,
   "metadata": {},
   "outputs": [],
   "source": [
    "degree_sequence = [G.degree(n) for n in G.nodes]"
   ]
  },
  {
   "cell_type": "markdown",
   "metadata": {},
   "source": [
    "이 시퀀스의 평균과 중앙값을 얻으려면 Python의 내장 statistics 모듈을 사용할 수 있다."
   ]
  },
  {
   "cell_type": "code",
   "execution_count": null,
   "metadata": {},
   "outputs": [],
   "source": [
    "import statistics\n",
    "\n",
    "print('Mean degree:', statistics.mean(degree_sequence))\n",
    "print('Median degree:', statistics.median(degree_sequence))"
   ]
  },
  {
   "cell_type": "markdown",
   "metadata": {},
   "source": [
    "전체 네트워크에 대해 한 번에 계산되고 **딕셔너리**를 반환하는 다른 중심성 측도의 경우, **딕셔너리**의 **.values()** 를 사용할 수 있다."
   ]
  },
  {
   "cell_type": "code",
   "execution_count": null,
   "metadata": {},
   "outputs": [],
   "source": [
    "betweenness = nx.betweenness_centrality(G)\n",
    "betweenness_sequence = list(betweenness.values())\n",
    "\n",
    "print('Mean betweenness:', statistics.mean(betweenness_sequence))\n",
    "print('Median betweenness:', statistics.median(betweenness_sequence))"
   ]
  },
  {
   "cell_type": "markdown",
   "metadata": {},
   "source": [
    "### 분포 그림 그리기\n",
    "히스토그램을 사용하여 중심성 값의 시퀀스를 그림으로 나타낼 수 있다.  \n",
    "기본 형태에서 히스토그램은 x축에 차수 값을 표시하고 y축에 해당 차수를 갖는 노드 수를 표시한다.  \n",
    "이 계산을 수행하기 위해 Python의 collections.Counter를 사용할 수 있다."
   ]
  },
  {
   "cell_type": "code",
   "execution_count": null,
   "metadata": {},
   "outputs": [],
   "source": [
    "from collections import Counter\n",
    "\n",
    "degree_counts = Counter(degree_sequence)\n",
    "degree_counts"
   ]
  },
  {
   "cell_type": "markdown",
   "metadata": {},
   "source": [
    "이 기본 히스토그램 플롯에서 x값은 시퀀스의 최소도와 최대도 사이의 모든 정수다.  \n",
    "degree_counts.keys()는 차수 시퀀스에서 볼 수 있는 모든 개별 값을 제공한다.  \n",
    "또한 올바른 엔드포인트를 포함하고 싶기 때문에 아래 범위에서 +1이 필요하다."
   ]
  },
  {
   "cell_type": "code",
   "execution_count": null,
   "metadata": {},
   "outputs": [],
   "source": [
    "min_degree, max_degree = min(degree_counts.keys()), max(degree_counts.keys())\n",
    "\n",
    "plot_x = list(range(min_degree, max_degree + 1))"
   ]
  },
  {
   "cell_type": "markdown",
   "metadata": {},
   "source": [
    "우리의 y-값은 차수열에서 각 x-값을 세는 횟수다.  \n",
    "시퀀스에 표시되지 않는 차수 값을 0으로 계산하기 위해, 기본값과 함께 .get 메서드를 사용할 수 있다.  \n",
    "예를 들어 32는 위의 degree_counts에 표시되지 않으므로, degree_counts.get(32, 0)은 0을 제공한다."
   ]
  },
  {
   "cell_type": "code",
   "execution_count": null,
   "metadata": {},
   "outputs": [],
   "source": [
    "plot_y = [degree_counts.get(x, 0) for x in plot_x]"
   ]
  },
  {
   "cell_type": "code",
   "execution_count": null,
   "metadata": {},
   "outputs": [],
   "source": [
    "plt.bar(plot_x, plot_y)\n",
    "plt.xlabel('degree')\n",
    "plt.ylabel('count')\n",
    "plt.show()"
   ]
  },
  {
   "cell_type": "markdown",
   "metadata": {},
   "source": [
    "### Histogram binning\n",
    "\n",
    "\n",
    "편안하게 표시할 수 있는 것보다 더 많은 x 값이 있거나 사이 중심성의 경우처럼 중심성 측정이 불연속적이지 않은 경우 Histogram binning을 사용할 수 있다.  \n",
    "이것은 bin이라고 하는 일련의 분리된 간격을 정의하고 이러한 각 bin에 속하는 값의 수를 계산한다.  \n",
    "가장 간단한 경우에 pyplot의 hist 함수에 원하는 bin 수를 알려주면 binning이 자동으로 수행된다."
   ]
  },
  {
   "cell_type": "code",
   "execution_count": null,
   "metadata": {},
   "outputs": [],
   "source": [
    "counts, bins, patches = plt.hist(betweenness_sequence, bins=10)\n",
    "plt.xlabel('bins')\n",
    "plt.ylabel('counts')\n",
    "plt.show()"
   ]
  },
  {
   "cell_type": "code",
   "execution_count": null,
   "metadata": {},
   "outputs": [],
   "source": [
    "bins"
   ]
  },
  {
   "cell_type": "code",
   "execution_count": null,
   "metadata": {},
   "outputs": [],
   "source": [
    "counts"
   ]
  },
  {
   "cell_type": "markdown",
   "metadata": {},
   "source": [
    "이를 통해 0에서 0.0194006 사이에 115개의 값, 0.194006에서 0.3880121 사이에 13개의 값 등이 있음을 알 수 있다."
   ]
  },
  {
   "cell_type": "markdown",
   "metadata": {},
   "source": [
    "## 3. Testing robustness\n",
    "\n",
    "네트워크에서 노드의 **상대적 중요성**에 대해 생각하는 또 다른 방법은 특정 노드가 제거될 경우 네트워크 구조가 얼마나 손상되는지 측정하는 것이다.  \n",
    "실생활에서 노드 제거는 사람이 소셜 네트워크에서 멀어져서 나가고, 누군가 직업을 바꾸고, 이메일 네트워크에서 제거되고, 인터넷 라우터가 공격/과부화되어 다운되는 등일 수 있다.\n",
    "\n",
    "광범위하게 우리는 **무작위 실패(random failure)** 와 **표적 공격(targeted attack)** 이라는 두 가지 유형의 네트워크 손상을 고려한다.  \n",
    "무작위 실패에서는 제거할 노드가 무작위로 선택된다.  \n",
    "표적 공격에서는 몇 가지 기준에 따라 노드를 제거한다. 예를 들어 중심성 정도가 내림차순으로 노드를 제거한다."
   ]
  },
  {
   "cell_type": "markdown",
   "metadata": {},
   "source": [
    "### 연결된 구성요소(Connected components)\n",
    "\n",
    "**손상(damage)** 을 측정하기 위해 때때로 **코어(core)** 라고 하는 네트워크의 가장 큰 연결 구성요소의 크기를 측정한다.  \n",
    "먼저 nx.connected_components가 가장 큰 것부터 시작하여 한 번에 하나씩 연결된 구성요소를 제공하는 생성기(generator)임을 관찰한다."
   ]
  },
  {
   "cell_type": "code",
   "execution_count": null,
   "metadata": {},
   "outputs": [],
   "source": [
    "nx.connected_components(G)"
   ]
  },
  {
   "cell_type": "markdown",
   "metadata": {},
   "source": [
    "우리는 종종 **코어(core)** 또는 **가장 큰 연결 구성요소**만 원하기 때문에 next 함수를 사용하여 생성기에서 첫 번째 항목만 가져올 수 있다.  \n",
    "각 구성요소는 노드 이름 세트로 제공된다."
   ]
  },
  {
   "cell_type": "code",
   "execution_count": null,
   "metadata": {},
   "outputs": [],
   "source": [
    "core = next(nx.connected_components(G))\n",
    "core"
   ]
  },
  {
   "cell_type": "markdown",
   "metadata": {},
   "source": [
    "따라서 이 집합의 len은 이 구성요소의 노드 수를 제공한다."
   ]
  },
  {
   "cell_type": "code",
   "execution_count": null,
   "metadata": {},
   "outputs": [],
   "source": [
    "len(core)"
   ]
  },
  {
   "cell_type": "markdown",
   "metadata": {},
   "source": [
    "연결된 모든 구성요소를 원하면 그 구성요소들의 list를 얻을 수 있다."
   ]
  },
  {
   "cell_type": "code",
   "execution_count": null,
   "metadata": {},
   "outputs": [],
   "source": [
    "components = list(nx.connected_components(G))"
   ]
  },
  {
   "cell_type": "markdown",
   "metadata": {},
   "source": [
    "이 list의 길이는 연결된 구성요소의 수다."
   ]
  },
  {
   "cell_type": "code",
   "execution_count": null,
   "metadata": {},
   "outputs": [],
   "source": [
    "len(components)"
   ]
  },
  {
   "cell_type": "markdown",
   "metadata": {},
   "source": [
    "### 무작위 실패(Random Failure)\n",
    "\n",
    "파괴적인 프로세스에 관여할 때마다 공격할 네트워크 그래프의 복사본을 만들어 쉽게 원래 상태로 되돌릴 수 있다."
   ]
  },
  {
   "cell_type": "code",
   "execution_count": null,
   "metadata": {},
   "outputs": [],
   "source": [
    "C = G.copy()"
   ]
  },
  {
   "cell_type": "markdown",
   "metadata": {},
   "source": [
    "**무작위 실패**를 시뮬레이트하기 위해 일부 노드 이름을 무작위로 선택하고 그래프에서 제거한다.  \n",
    "random.sample을 사용하여 한 번에 둘 이상의 노드를 제거할 수 있다.  \n",
    "무작위로 샘플링할 노드 이름 list를 만들어야 한다."
   ]
  },
  {
   "cell_type": "code",
   "execution_count": null,
   "metadata": {},
   "outputs": [],
   "source": [
    "import random\n",
    "\n",
    "nodes_to_remove = random.sample(list(C.nodes), 2)\n",
    "C.remove_nodes_from(nodes_to_remove)"
   ]
  },
  {
   "cell_type": "markdown",
   "metadata": {},
   "source": [
    "전체 시뮬레이션은 네트워크의 새로운 사본에서 시작하여 다음과 같이 작동한다.\n",
    "\n",
    "1. 원래 네트워크 크기와 비교하여 네트워크 코어 크기를 측정한다.\n",
    "2. 임의로 M 노드를 선택하고 제거한다.\n",
    "3. 노드가 M개 미만이 될 때까지 반복한다.\n",
    "\n",
    "우리는 이 프로세스를 수행하기를 원하는 단계 수에서 M을 결정할 것이다.  \n",
    "약 25단계가 적당하므로 다음과 같다."
   ]
  },
  {
   "cell_type": "code",
   "execution_count": null,
   "metadata": {},
   "outputs": [],
   "source": [
    "G.number_of_nodes()"
   ]
  },
  {
   "cell_type": "code",
   "execution_count": null,
   "metadata": {},
   "outputs": [],
   "source": [
    "number_of_steps = 25\n",
    "M = G.number_of_nodes() // number_of_steps   # //: floor division\n",
    "M"
   ]
  },
  {
   "cell_type": "markdown",
   "metadata": {},
   "source": [
    "그런 다음 range를 사용하여 각 단계에서 제거된 총 노드 수의 시퀀스를 생성할 수 있다."
   ]
  },
  {
   "cell_type": "code",
   "execution_count": null,
   "metadata": {},
   "outputs": [],
   "source": [
    "num_nodes_removed = range(0, G.number_of_nodes(), M)"
   ]
  },
  {
   "cell_type": "markdown",
   "metadata": {},
   "source": [
    "loop는 매우 간단하다. 각 단계에서 코어에 남아 있는 노드의 비율을 기록해야 한다."
   ]
  },
  {
   "cell_type": "code",
   "execution_count": null,
   "metadata": {},
   "outputs": [],
   "source": [
    "N = G.number_of_nodes()\n",
    "C = G.copy()\n",
    "random_attack_core_proportions = []\n",
    "for nodes_removed in num_nodes_removed:\n",
    "    # Measure the relative size of the network core\n",
    "    core = next(nx.connected_components(C))\n",
    "    core_proportion = len(core) / N\n",
    "    random_attack_core_proportions.append(core_proportion)\n",
    "    \n",
    "    # If there are more than M nodes, select M nodes at random and remove them\n",
    "    if C.number_of_nodes() > M:\n",
    "        nodes_to_remove = random.sample(list(C.nodes), M)\n",
    "        C.remove_nodes_from(nodes_to_remove)"
   ]
  },
  {
   "cell_type": "code",
   "execution_count": null,
   "metadata": {},
   "outputs": [],
   "source": [
    "plt.title('Random failure')\n",
    "plt.xlabel('Number of nodes removed')\n",
    "plt.ylabel('Proportion of nodes in core')\n",
    "plt.plot(num_nodes_removed, random_attack_core_proportions, marker='o')\n",
    "plt.show()"
   ]
  },
  {
   "cell_type": "markdown",
   "metadata": {},
   "source": [
    "#### 표적 공격(Targeted Attack)\n",
    "\n",
    "표적 공격 시뮬레이션은 무작위로 선택하는 대신 각 단계에서 가장 중앙에 있는 M개의 노드를 선택한다는 점을 제외하면 비슷하다.  \n",
    "이를 달성하기 위해 가장 중앙 노드를 얻기 위해 초기에 사용된 max 함수와 같은 것을 원하지만 최상위 M 노드를 얻을 수 있다.  \n",
    "Python의 sorted 함수를 max와 유사한 방식으로 사용하여 우선 내림차순 또는 역순으로 중심성을 기준으로 노드를 정렬할 수 있다.  \n",
    "**차수** 별로 정렬되면 목록에서 첫 번째 M 노드를 가져온다."
   ]
  },
  {
   "cell_type": "code",
   "execution_count": null,
   "metadata": {},
   "outputs": [],
   "source": [
    "nodes_sorted_by_degree = sorted(G.nodes, key=G.degree, reverse=True)\n",
    "top_degree_nodes = nodes_sorted_by_degree[:M]\n",
    "top_degree_nodes"
   ]
  },
  {
   "cell_type": "code",
   "execution_count": null,
   "metadata": {},
   "outputs": [],
   "source": [
    "N = G.number_of_nodes()\n",
    "number_of_steps = 25\n",
    "M = N // number_of_steps\n",
    "\n",
    "num_nodes_removed = range(0, N, M)\n",
    "C = G.copy()\n",
    "targeted_attack_core_proportions = []\n",
    "for nodes_removed in num_nodes_removed:\n",
    "    # Measure the relative size of the network core\n",
    "    core = next(nx.connected_components(C))\n",
    "    core_proportion = len(core) / N\n",
    "    targeted_attack_core_proportions.append(core_proportion)\n",
    "    \n",
    "    # If there are more than M nodes, select top M nodes and remove them\n",
    "    if C.number_of_nodes() > M:\n",
    "        nodes_sorted_by_degree = sorted(C.nodes, key=C.degree, reverse=True)\n",
    "        nodes_to_remove = nodes_sorted_by_degree[:M]\n",
    "        C.remove_nodes_from(nodes_to_remove)"
   ]
  },
  {
   "cell_type": "code",
   "execution_count": null,
   "metadata": {},
   "outputs": [],
   "source": [
    "plt.title('Targeted attack')\n",
    "plt.xlabel('Number of nodes removed')\n",
    "plt.ylabel('Proportion of nodes in core')\n",
    "plt.plot(num_nodes_removed, targeted_attack_core_proportions, marker='o')"
   ]
  },
  {
   "cell_type": "markdown",
   "metadata": {},
   "source": [
    "보시다시피 그 효과는 극적이다. 그래프에서 상대적으로 적은 수의 중앙 노드를 제거한 후 네트워크가 완전히 연결 해제된다.\n",
    "\n",
    "pyplot은 추가 효과를 위해 동일한 플롯에 이러한 곡선을 그릴 수 있다."
   ]
  },
  {
   "cell_type": "code",
   "execution_count": null,
   "metadata": {},
   "outputs": [],
   "source": [
    "plt.title('Random failure vs. targeted attack')\n",
    "plt.xlabel('Number of nodes removed')\n",
    "plt.ylabel('Proportion of nodes in core')\n",
    "plt.plot(num_nodes_removed, random_attack_core_proportions, marker='o', label='Failures')\n",
    "plt.plot(num_nodes_removed, targeted_attack_core_proportions, marker='^', label='Attacks')\n",
    "plt.legend()"
   ]
  }
 ],
 "metadata": {
  "kernelspec": {
   "display_name": "Python 3 (ipykernel)",
   "language": "python",
   "name": "python3"
  },
  "language_info": {
   "codemirror_mode": {
    "name": "ipython",
    "version": 3
   },
   "file_extension": ".py",
   "mimetype": "text/x-python",
   "name": "python",
   "nbconvert_exporter": "python",
   "pygments_lexer": "ipython3",
   "version": "3.9.7"
  }
 },
 "nbformat": 4,
 "nbformat_minor": 2
}
