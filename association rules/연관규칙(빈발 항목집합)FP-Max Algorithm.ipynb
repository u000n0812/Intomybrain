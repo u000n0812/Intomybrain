{
 "cells": [
  {
   "cell_type": "markdown",
   "id": "f88916e0",
   "metadata": {},
   "source": [
    "# 연관규칙: 빈발 항목집합 - FP-Max Algorithm"
   ]
  },
  {
   "cell_type": "code",
   "execution_count": 1,
   "id": "e2c5edfe",
   "metadata": {},
   "outputs": [],
   "source": [
    "#!pip install mlxtend"
   ]
  },
  {
   "cell_type": "code",
   "execution_count": 2,
   "id": "c5a453e7",
   "metadata": {},
   "outputs": [],
   "source": [
    "import pandas as pd\n",
    "from mlxtend.preprocessing import TransactionEncoder\n",
    "from mlxtend.frequent_patterns import apriori, fpmax, fpgrowth"
   ]
  },
  {
   "cell_type": "markdown",
   "id": "9303b443",
   "metadata": {},
   "source": [
    "##### transaction data"
   ]
  },
  {
   "cell_type": "code",
   "execution_count": 3,
   "id": "36189293",
   "metadata": {},
   "outputs": [],
   "source": [
    "dataset = [['Milk', 'Onion', 'Nutmeg', 'Kidney Beans', 'Eggs', 'Yogurt'],\n",
    "           ['Dill', 'Onion', 'Nutmeg', 'Kidney Beans', 'Eggs', 'Yogurt'],\n",
    "           ['Milk', 'Apple', 'Kidney Beans', 'Eggs'],\n",
    "           ['Milk', 'Unicorn', 'Corn', 'Kidney Beans', 'Yogurt'],\n",
    "           ['Corn', 'Onion', 'Onion', 'Kidney Beans', 'Ice cream', 'Eggs']]"
   ]
  },
  {
   "cell_type": "code",
   "execution_count": 4,
   "id": "27768777",
   "metadata": {},
   "outputs": [
    {
     "name": "stdout",
     "output_type": "stream",
     "text": [
      "<class 'list'>\n"
     ]
    }
   ],
   "source": [
    "print(type(dataset))"
   ]
  },
  {
   "cell_type": "code",
   "execution_count": 5,
   "id": "01b5e5f7",
   "metadata": {},
   "outputs": [
    {
     "name": "stdout",
     "output_type": "stream",
     "text": [
      "<class 'numpy.ndarray'> \n",
      "\n",
      "[[False False False  True False  True  True  True  True False  True]\n",
      " [False False  True  True False  True False  True  True False  True]\n",
      " [ True False False  True False  True  True False False False False]\n",
      " [False  True False False False  True  True False False  True  True]\n",
      " [False  True False  True  True  True False False  True False False]]\n"
     ]
    }
   ],
   "source": [
    "te = TransactionEncoder()\n",
    "te_ary = te.fit(dataset).transform(dataset)\n",
    "print(type(te_ary), '\\n')\n",
    "print(te_ary)\n",
    "\n",
    "# 11 items\n",
    "\n",
    "#  0       1    2     3        4           5          6      7      8       9       10          \n",
    "# Apple, Corn, Dill, Eggs, Ice cream, Kidney Beans, Milk, Nutmeg, Onion, Unicorn, Yogurt "
   ]
  },
  {
   "cell_type": "code",
   "execution_count": 6,
   "id": "68de1b22",
   "metadata": {},
   "outputs": [
    {
     "name": "stdout",
     "output_type": "stream",
     "text": [
      "[[0 0 0 1 0 1 1 1 1 0 1]\n",
      " [0 0 1 1 0 1 0 1 1 0 1]\n",
      " [1 0 0 1 0 1 1 0 0 0 0]\n",
      " [0 1 0 0 0 1 1 0 0 1 1]\n",
      " [0 1 0 1 1 1 0 0 1 0 0]]\n"
     ]
    }
   ],
   "source": [
    "print(te_ary.astype(\"int\"))"
   ]
  },
  {
   "cell_type": "code",
   "execution_count": 7,
   "id": "3003f361",
   "metadata": {},
   "outputs": [
    {
     "name": "stdout",
     "output_type": "stream",
     "text": [
      "['Apple', 'Corn', 'Dill', 'Eggs', 'Ice cream', 'Kidney Beans', 'Milk', 'Nutmeg', 'Onion', 'Unicorn', 'Yogurt']\n"
     ]
    }
   ],
   "source": [
    "print(te.columns_)"
   ]
  },
  {
   "cell_type": "code",
   "execution_count": 8,
   "id": "0cd459e5",
   "metadata": {},
   "outputs": [
    {
     "name": "stdout",
     "output_type": "stream",
     "text": [
      "<class 'pandas.core.frame.DataFrame'>\n",
      "   Apple   Corn   Dill   Eggs  Ice cream  Kidney Beans   Milk  Nutmeg  Onion  \\\n",
      "0  False  False  False   True      False          True   True    True   True   \n",
      "1  False  False   True   True      False          True  False    True   True   \n",
      "2   True  False  False   True      False          True   True   False  False   \n",
      "3  False   True  False  False      False          True   True   False  False   \n",
      "4  False   True  False   True       True          True  False   False   True   \n",
      "\n",
      "   Unicorn  Yogurt  \n",
      "0    False    True  \n",
      "1    False    True  \n",
      "2    False   False  \n",
      "3     True    True  \n",
      "4    False   False  \n"
     ]
    }
   ],
   "source": [
    "df = pd.DataFrame(te_ary, columns=te.columns_)\n",
    "print(type(df))\n",
    "print(df)"
   ]
  },
  {
   "cell_type": "markdown",
   "id": "691d0128",
   "metadata": {},
   "source": [
    "### A-Priori Algorithm의 한계\n",
    "* A-Priori Algorithm은 빈발 항목집합 생성을 위한 최초이자 가장 널리 사용되는 알고리즘 중 하나입니다.\n",
    "* 그러나 고유한 항목의 수에 따라 런타임이 기하급수적으로 증가하므로, A-Priori Algorithm의 런타임은 특히 고유한 항목이 많은 데이터셋의 경우 상당히 클 수 있습니다."
   ]
  },
  {
   "cell_type": "markdown",
   "id": "abd9fa86",
   "metadata": {},
   "source": [
    "### FP-Growth Algorithm\n",
    "* Apriori Algorithm과 달리\n",
    "* FP-Growth Algorithm은 패턴 검색 트리에 항목을 삽입하는 빈발 패턴 생성 알고리즘으로\n",
    "* 고유한 항목 또는 항목의 수와 관련하여 런타임에서 선형 증가를 허용합니다.\n",
    "##### FP-Growth Algorithm은 후보 항목집합을 명시적으로 생성할 필요가 없습니다."
   ]
  },
  {
   "cell_type": "markdown",
   "id": "a391b320",
   "metadata": {},
   "source": [
    "### FP-Max Algorithm\n",
    "* FP-Max Algorithm은 정점 항목집합(maximal itemsets)을 얻는 데 중점을 둔 FP-Growth의 변형입니다.\n",
    "* 항목집합 X는 X가 빈발하고, X를 포함하는 빈발 슈퍼 패턴(frequent super-pattern)이 존재하지 않는 경우,  정점(maximal)라고 합니다."
   ]
  },
  {
   "cell_type": "markdown",
   "id": "8008f220",
   "metadata": {},
   "source": [
    "##### 지지도(support)가 0.6 이상인 빈발 항목집합을 찾아봅시다. "
   ]
  },
  {
   "cell_type": "code",
   "execution_count": 9,
   "id": "b23b1898",
   "metadata": {},
   "outputs": [],
   "source": [
    "#frequent_itemsets = apriori(df, min_support=0.6, use_colnames=True)\n",
    "#frequent_itemsets = fpgrowth(df, min_support=0.6, use_colnames=True)\n",
    "frequent_itemsets = fpmax(df, min_support=0.6, use_colnames=True)"
   ]
  },
  {
   "cell_type": "code",
   "execution_count": 10,
   "id": "0b69a01d",
   "metadata": {},
   "outputs": [
    {
     "data": {
      "text/html": [
       "<div>\n",
       "<style scoped>\n",
       "    .dataframe tbody tr th:only-of-type {\n",
       "        vertical-align: middle;\n",
       "    }\n",
       "\n",
       "    .dataframe tbody tr th {\n",
       "        vertical-align: top;\n",
       "    }\n",
       "\n",
       "    .dataframe thead th {\n",
       "        text-align: right;\n",
       "    }\n",
       "</style>\n",
       "<table border=\"1\" class=\"dataframe\">\n",
       "  <thead>\n",
       "    <tr style=\"text-align: right;\">\n",
       "      <th></th>\n",
       "      <th>support</th>\n",
       "      <th>itemsets</th>\n",
       "    </tr>\n",
       "  </thead>\n",
       "  <tbody>\n",
       "    <tr>\n",
       "      <th>0</th>\n",
       "      <td>0.6</td>\n",
       "      <td>(Milk, Kidney Beans)</td>\n",
       "    </tr>\n",
       "    <tr>\n",
       "      <th>1</th>\n",
       "      <td>0.6</td>\n",
       "      <td>(Kidney Beans, Eggs, Onion)</td>\n",
       "    </tr>\n",
       "    <tr>\n",
       "      <th>2</th>\n",
       "      <td>0.6</td>\n",
       "      <td>(Yogurt, Kidney Beans)</td>\n",
       "    </tr>\n",
       "  </tbody>\n",
       "</table>\n",
       "</div>"
      ],
      "text/plain": [
       "   support                     itemsets\n",
       "0      0.6         (Milk, Kidney Beans)\n",
       "1      0.6  (Kidney Beans, Eggs, Onion)\n",
       "2      0.6       (Yogurt, Kidney Beans)"
      ]
     },
     "execution_count": 10,
     "metadata": {},
     "output_type": "execute_result"
    }
   ],
   "source": [
    "frequent_itemsets"
   ]
  }
 ],
 "metadata": {
  "kernelspec": {
   "display_name": "Python 3 (ipykernel)",
   "language": "python",
   "name": "python3"
  },
  "language_info": {
   "codemirror_mode": {
    "name": "ipython",
    "version": 3
   },
   "file_extension": ".py",
   "mimetype": "text/x-python",
   "name": "python",
   "nbconvert_exporter": "python",
   "pygments_lexer": "ipython3",
   "version": "3.9.7"
  }
 },
 "nbformat": 4,
 "nbformat_minor": 5
}
